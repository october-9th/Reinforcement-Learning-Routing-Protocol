{
  "cells": [
    {
      "cell_type": "markdown",
      "metadata": {
        "id": "view-in-github",
        "colab_type": "text"
      },
      "source": [
        "<a href=\"https://colab.research.google.com/github/october-9th/Reinforcement-Learning-Routing-Protocol/blob/main/RLOR_(completed).ipynb\" target=\"_parent\"><img src=\"https://colab.research.google.com/assets/colab-badge.svg\" alt=\"Open In Colab\"/></a>"
      ]
    },
    {
      "cell_type": "markdown",
      "metadata": {
        "id": "Tpzvif8ZbC4F"
      },
      "source": [
        "# **Import thư viện cần thiết**"
      ]
    },
    {
      "cell_type": "code",
      "execution_count": null,
      "metadata": {
        "colab": {
          "background_save": true
        },
        "id": "dA86-x2AUX9b"
      },
      "outputs": [],
      "source": [
        "import numpy as np\n",
        "import random\n",
        "import sys\n",
        "import math\n",
        "import pandas as pd\n",
        "import time\n",
        "import matplotlib.pyplot as plt\n",
        "import csv"
      ]
    },
    {
      "cell_type": "markdown",
      "metadata": {
        "id": "RmUaRmqJLoou"
      },
      "source": [
        "# **Khởi tạo các tham số đầu vào của môi trường**"
      ]
    },
    {
      "cell_type": "code",
      "execution_count": null,
      "metadata": {
        "colab": {
          "background_save": true
        },
        "id": "blUzAW59Loo3"
      },
      "outputs": [],
      "source": [
        "max_commnunication_range = 250 # Ngưỡng giao tiếp tối đa của các node\n",
        "max_depth = 500 # Độ sâu tối đa\n",
        "sink = {\"x\": 500, \"y\": 500, \"z\": 0} # Thông tin node sink\n",
        "total_nodes = []\n",
        "sink_communication_range = 200 # Ngưỡng giao tiếp của node sink"
      ]
    },
    {
      "cell_type": "markdown",
      "metadata": {
        "id": "QIO9hBK563fU"
      },
      "source": [
        "# **Khởi tạo mảng seabed node và chọn cluster head**\n"
      ]
    },
    {
      "cell_type": "code",
      "execution_count": null,
      "metadata": {
        "colab": {
          "background_save": true
        },
        "id": "RM1cRDhv691u"
      },
      "outputs": [],
      "source": [
        "# HÀM KHỞI TẠO MẢNG SEADBED_NODES\n",
        "def initialy_seabed_nodes(num_seabed, max_depth):\n",
        "  seabed_nodes = []\n",
        "  for i in range(num_seabed):\n",
        "        # Generate random x, y coordinates\n",
        "        x = random.randint(0, max_depth)\n",
        "        y = random.randint(0, max_depth)\n",
        "        # Generate random energy\n",
        "        energy = random.uniform(1, 5)\n",
        "        # Create seabed node with fixed z-coordinate\n",
        "        seabed_node = {\"id\": i, \"x\": x, \"y\": y, \"z\": -500, \"energy\" : energy}\n",
        "        seabed_nodes.append(seabed_node)\n",
        "  return seabed_nodes"
      ]
    },
    {
      "cell_type": "code",
      "execution_count": null,
      "metadata": {
        "colab": {
          "background_save": true
        },
        "id": "8Z02fb_p6K9B",
        "outputId": "865a25cf-051d-436e-db0a-4a435aa9e7c8"
      },
      "outputs": [
        {
          "data": {
            "text/plain": [
              "[{'id': 0, 'x': 346, 'y': 457, 'z': -500, 'energy': 3.111413395438161},\n",
              " {'id': 1, 'x': 324, 'y': 269, 'z': -500, 'energy': 4.460713318970678},\n",
              " {'id': 2, 'x': 268, 'y': 388, 'z': -500, 'energy': 2.1558573913284462},\n",
              " {'id': 3, 'x': 2, 'y': 127, 'z': -500, 'energy': 3.3040879759592094},\n",
              " {'id': 4, 'x': 61, 'y': 103, 'z': -500, 'energy': 1.4936606496625697},\n",
              " {'id': 5, 'x': 336, 'y': 183, 'z': -500, 'energy': 2.0280854721561803},\n",
              " {'id': 6, 'x': 71, 'y': 239, 'z': -500, 'energy': 4.546090975110008},\n",
              " {'id': 7, 'x': 27, 'y': 304, 'z': -500, 'energy': 4.234481944392069},\n",
              " {'id': 8, 'x': 98, 'y': 378, 'z': -500, 'energy': 2.1792737110983014},\n",
              " {'id': 9, 'x': 340, 'y': 66, 'z': -500, 'energy': 1.618413298178666},\n",
              " {'id': 10, 'x': 214, 'y': 174, 'z': -500, 'energy': 2.0368758659666097},\n",
              " {'id': 11, 'x': 441, 'y': 433, 'z': -500, 'energy': 4.066533545244676},\n",
              " {'id': 12, 'x': 434, 'y': 336, 'z': -500, 'energy': 3.815319603609103},\n",
              " {'id': 13, 'x': 224, 'y': 107, 'z': -500, 'energy': 1.2752767177141853},\n",
              " {'id': 14, 'x': 451, 'y': 17, 'z': -500, 'energy': 4.675991384643298},\n",
              " {'id': 15, 'x': 80, 'y': 492, 'z': -500, 'energy': 3.990493671006596},\n",
              " {'id': 16, 'x': 363, 'y': 186, 'z': -500, 'energy': 4.4856259988252045},\n",
              " {'id': 17, 'x': 398, 'y': 495, 'z': -500, 'energy': 4.420237413394666},\n",
              " {'id': 18, 'x': 8, 'y': 375, 'z': -500, 'energy': 1.6982645236149065},\n",
              " {'id': 19, 'x': 31, 'y': 116, 'z': -500, 'energy': 1.1652930463090847},\n",
              " {'id': 20, 'x': 57, 'y': 322, 'z': -500, 'energy': 3.854474988602167},\n",
              " {'id': 21, 'x': 372, 'y': 41, 'z': -500, 'energy': 1.7308372261527958},\n",
              " {'id': 22, 'x': 3, 'y': 428, 'z': -500, 'energy': 2.69306864958215},\n",
              " {'id': 23, 'x': 399, 'y': 487, 'z': -500, 'energy': 2.0180131108998887},\n",
              " {'id': 24, 'x': 482, 'y': 267, 'z': -500, 'energy': 1.8975195978075612},\n",
              " {'id': 25, 'x': 270, 'y': 264, 'z': -500, 'energy': 1.7864740102495063},\n",
              " {'id': 26, 'x': 189, 'y': 414, 'z': -500, 'energy': 4.739688370559465},\n",
              " {'id': 27, 'x': 437, 'y': 133, 'z': -500, 'energy': 2.9091268290613805},\n",
              " {'id': 28, 'x': 332, 'y': 7, 'z': -500, 'energy': 4.98478578162905},\n",
              " {'id': 29, 'x': 82, 'y': 487, 'z': -500, 'energy': 3.3095422264490892},\n",
              " {'id': 30, 'x': 386, 'y': 162, 'z': -500, 'energy': 3.005330130691406},\n",
              " {'id': 31, 'x': 165, 'y': 438, 'z': -500, 'energy': 3.3532109202925358},\n",
              " {'id': 32, 'x': 29, 'y': 308, 'z': -500, 'energy': 1.606398011517614},\n",
              " {'id': 33, 'x': 101, 'y': 396, 'z': -500, 'energy': 3.8446378863846964},\n",
              " {'id': 34, 'x': 288, 'y': 393, 'z': -500, 'energy': 3.1907237965942867},\n",
              " {'id': 35, 'x': 11, 'y': 224, 'z': -500, 'energy': 4.512308507229726},\n",
              " {'id': 36, 'x': 150, 'y': 162, 'z': -500, 'energy': 3.9706378312381716},\n",
              " {'id': 37, 'x': 351, 'y': 237, 'z': -500, 'energy': 1.1994001910213155},\n",
              " {'id': 38, 'x': 412, 'y': 372, 'z': -500, 'energy': 1.66568447459488},\n",
              " {'id': 39, 'x': 416, 'y': 366, 'z': -500, 'energy': 1.0789954761009537},\n",
              " {'id': 40, 'x': 490, 'y': 132, 'z': -500, 'energy': 4.958042588614581},\n",
              " {'id': 41, 'x': 232, 'y': 392, 'z': -500, 'energy': 1.9424887733579408},\n",
              " {'id': 42, 'x': 416, 'y': 127, 'z': -500, 'energy': 4.968668664417144},\n",
              " {'id': 43, 'x': 475, 'y': 304, 'z': -500, 'energy': 3.925103544783322},\n",
              " {'id': 44, 'x': 210, 'y': 165, 'z': -500, 'energy': 4.860607719256741},\n",
              " {'id': 45, 'x': 470, 'y': 487, 'z': -500, 'energy': 1.710693274172462},\n",
              " {'id': 46, 'x': 47, 'y': 56, 'z': -500, 'energy': 3.211694351384477},\n",
              " {'id': 47, 'x': 380, 'y': 20, 'z': -500, 'energy': 3.2210041147574247},\n",
              " {'id': 48, 'x': 172, 'y': 432, 'z': -500, 'energy': 2.9153769539849517},\n",
              " {'id': 49, 'x': 440, 'y': 164, 'z': -500, 'energy': 1.8992525111812641},\n",
              " {'id': 50, 'x': 260, 'y': 112, 'z': -500, 'energy': 3.898656647938931},\n",
              " {'id': 51, 'x': 313, 'y': 490, 'z': -500, 'energy': 2.1367185111340943},\n",
              " {'id': 52, 'x': 5, 'y': 277, 'z': -500, 'energy': 2.5739737783700654},\n",
              " {'id': 53, 'x': 225, 'y': 260, 'z': -500, 'energy': 2.38934090203359},\n",
              " {'id': 54, 'x': 414, 'y': 259, 'z': -500, 'energy': 3.420847657005615},\n",
              " {'id': 55, 'x': 177, 'y': 32, 'z': -500, 'energy': 1.4438887255458375},\n",
              " {'id': 56, 'x': 473, 'y': 239, 'z': -500, 'energy': 2.1100508678641354},\n",
              " {'id': 57, 'x': 210, 'y': 165, 'z': -500, 'energy': 1.2839301655754887},\n",
              " {'id': 58, 'x': 149, 'y': 323, 'z': -500, 'energy': 4.274750106679376},\n",
              " {'id': 59, 'x': 346, 'y': 239, 'z': -500, 'energy': 3.459280844816323},\n",
              " {'id': 60, 'x': 323, 'y': 121, 'z': -500, 'energy': 1.49560458724482},\n",
              " {'id': 61, 'x': 209, 'y': 197, 'z': -500, 'energy': 3.115911208547976},\n",
              " {'id': 62, 'x': 388, 'y': 236, 'z': -500, 'energy': 2.0898145429507706},\n",
              " {'id': 63, 'x': 349, 'y': 200, 'z': -500, 'energy': 1.7634497564504086},\n",
              " {'id': 64, 'x': 401, 'y': 441, 'z': -500, 'energy': 1.1924480835352367},\n",
              " {'id': 65, 'x': 53, 'y': 265, 'z': -500, 'energy': 3.389875721694698},\n",
              " {'id': 66, 'x': 207, 'y': 49, 'z': -500, 'energy': 1.756501182071136},\n",
              " {'id': 67, 'x': 395, 'y': 340, 'z': -500, 'energy': 1.2728840282577791},\n",
              " {'id': 68, 'x': 363, 'y': 156, 'z': -500, 'energy': 2.0358363493079366},\n",
              " {'id': 69, 'x': 481, 'y': 359, 'z': -500, 'energy': 4.8623605249989765},\n",
              " {'id': 70, 'x': 145, 'y': 11, 'z': -500, 'energy': 3.698829470278061},\n",
              " {'id': 71, 'x': 119, 'y': 84, 'z': -500, 'energy': 2.4481027820765693},\n",
              " {'id': 72, 'x': 70, 'y': 474, 'z': -500, 'energy': 2.482555568564998},\n",
              " {'id': 73, 'x': 425, 'y': 32, 'z': -500, 'energy': 3.603800540198698},\n",
              " {'id': 74, 'x': 159, 'y': 203, 'z': -500, 'energy': 3.3019698125679913},\n",
              " {'id': 75, 'x': 173, 'y': 362, 'z': -500, 'energy': 3.5288276052239866},\n",
              " {'id': 76, 'x': 311, 'y': 336, 'z': -500, 'energy': 3.717233603978283},\n",
              " {'id': 77, 'x': 331, 'y': 410, 'z': -500, 'energy': 4.455192934927638},\n",
              " {'id': 78, 'x': 274, 'y': 37, 'z': -500, 'energy': 3.449100729530203},\n",
              " {'id': 79, 'x': 455, 'y': 224, 'z': -500, 'energy': 2.267429962988241},\n",
              " {'id': 80, 'x': 454, 'y': 338, 'z': -500, 'energy': 4.114554813874662},\n",
              " {'id': 81, 'x': 380, 'y': 114, 'z': -500, 'energy': 2.3581668750400797},\n",
              " {'id': 82, 'x': 359, 'y': 372, 'z': -500, 'energy': 2.2370221301099606},\n",
              " {'id': 83, 'x': 454, 'y': 13, 'z': -500, 'energy': 4.207579140159702},\n",
              " {'id': 84, 'x': 406, 'y': 432, 'z': -500, 'energy': 2.62094975265377},\n",
              " {'id': 85, 'x': 150, 'y': 488, 'z': -500, 'energy': 4.295073587180043},\n",
              " {'id': 86, 'x': 343, 'y': 307, 'z': -500, 'energy': 4.0525122464410455},\n",
              " {'id': 87, 'x': 15, 'y': 253, 'z': -500, 'energy': 2.907962307290091},\n",
              " {'id': 88, 'x': 321, 'y': 362, 'z': -500, 'energy': 2.5684422014965413},\n",
              " {'id': 89, 'x': 471, 'y': 345, 'z': -500, 'energy': 1.0081212995192952},\n",
              " {'id': 90, 'x': 145, 'y': 308, 'z': -500, 'energy': 1.9546967034517961},\n",
              " {'id': 91, 'x': 280, 'y': 242, 'z': -500, 'energy': 2.8503805980287917},\n",
              " {'id': 92, 'x': 398, 'y': 148, 'z': -500, 'energy': 3.336283590367312},\n",
              " {'id': 93, 'x': 172, 'y': 210, 'z': -500, 'energy': 1.2860300081959606},\n",
              " {'id': 94, 'x': 326, 'y': 91, 'z': -500, 'energy': 1.64024037184529},\n",
              " {'id': 95, 'x': 425, 'y': 196, 'z': -500, 'energy': 4.108679271082995},\n",
              " {'id': 96, 'x': 365, 'y': 467, 'z': -500, 'energy': 4.55710420063349},\n",
              " {'id': 97, 'x': 22, 'y': 78, 'z': -500, 'energy': 1.007639869600732},\n",
              " {'id': 98, 'x': 355, 'y': 454, 'z': -500, 'energy': 2.3778333811398626},\n",
              " {'id': 99, 'x': 47, 'y': 408, 'z': -500, 'energy': 2.1868605835856774},\n",
              " {'id': 100, 'x': 334, 'y': 202, 'z': -500, 'energy': 2.247783355524841},\n",
              " {'id': 101, 'x': 478, 'y': 175, 'z': -500, 'energy': 1.843558984602235},\n",
              " {'id': 102, 'x': 288, 'y': 124, 'z': -500, 'energy': 4.416579364352835},\n",
              " {'id': 103, 'x': 34, 'y': 96, 'z': -500, 'energy': 3.91828716175922},\n",
              " {'id': 104, 'x': 233, 'y': 238, 'z': -500, 'energy': 3.3653800840389687},\n",
              " {'id': 105, 'x': 168, 'y': 10, 'z': -500, 'energy': 2.8273186597232454},\n",
              " {'id': 106, 'x': 418, 'y': 416, 'z': -500, 'energy': 3.0406665127919585},\n",
              " {'id': 107, 'x': 324, 'y': 56, 'z': -500, 'energy': 4.375164350396717},\n",
              " {'id': 108, 'x': 453, 'y': 194, 'z': -500, 'energy': 3.1153312438326806},\n",
              " {'id': 109, 'x': 324, 'y': 17, 'z': -500, 'energy': 2.9542123734371755},\n",
              " {'id': 110, 'x': 28, 'y': 376, 'z': -500, 'energy': 3.595175204091504},\n",
              " {'id': 111, 'x': 62, 'y': 414, 'z': -500, 'energy': 2.675351131490904},\n",
              " {'id': 112, 'x': 153, 'y': 152, 'z': -500, 'energy': 3.678042317081263},\n",
              " {'id': 113, 'x': 243, 'y': 118, 'z': -500, 'energy': 2.418271138854419},\n",
              " {'id': 114, 'x': 230, 'y': 197, 'z': -500, 'energy': 2.897696407288502},\n",
              " {'id': 115, 'x': 478, 'y': 231, 'z': -500, 'energy': 3.3064221122226427},\n",
              " {'id': 116, 'x': 40, 'y': 276, 'z': -500, 'energy': 2.4741896894824253},\n",
              " {'id': 117, 'x': 446, 'y': 76, 'z': -500, 'energy': 2.040801365317819},\n",
              " {'id': 118, 'x': 347, 'y': 283, 'z': -500, 'energy': 1.3992212674020608},\n",
              " {'id': 119, 'x': 438, 'y': 299, 'z': -500, 'energy': 2.2951471670384103},\n",
              " {'id': 120, 'x': 209, 'y': 86, 'z': -500, 'energy': 2.9991186223726114},\n",
              " {'id': 121, 'x': 5, 'y': 115, 'z': -500, 'energy': 4.634706232760262},\n",
              " {'id': 122, 'x': 362, 'y': 481, 'z': -500, 'energy': 1.1153105958670322},\n",
              " {'id': 123, 'x': 475, 'y': 103, 'z': -500, 'energy': 2.8415835645227117},\n",
              " {'id': 124, 'x': 210, 'y': 30, 'z': -500, 'energy': 4.922965793903511},\n",
              " {'id': 125, 'x': 80, 'y': 239, 'z': -500, 'energy': 3.284476476626297},\n",
              " {'id': 126, 'x': 388, 'y': 299, 'z': -500, 'energy': 3.386175748443216},\n",
              " {'id': 127, 'x': 489, 'y': 68, 'z': -500, 'energy': 2.352185797195239},\n",
              " {'id': 128, 'x': 377, 'y': 222, 'z': -500, 'energy': 1.2150819569892723},\n",
              " {'id': 129, 'x': 232, 'y': 151, 'z': -500, 'energy': 1.512599009808394},\n",
              " {'id': 130, 'x': 286, 'y': 212, 'z': -500, 'energy': 4.021399720418543},\n",
              " {'id': 131, 'x': 188, 'y': 137, 'z': -500, 'energy': 1.7173974981517772},\n",
              " {'id': 132, 'x': 104, 'y': 87, 'z': -500, 'energy': 2.6683166160361513},\n",
              " {'id': 133, 'x': 301, 'y': 1, 'z': -500, 'energy': 1.6889392407672408},\n",
              " {'id': 134, 'x': 251, 'y': 300, 'z': -500, 'energy': 3.6927046843862468},\n",
              " {'id': 135, 'x': 5, 'y': 231, 'z': -500, 'energy': 4.61062897342326},\n",
              " {'id': 136, 'x': 69, 'y': 445, 'z': -500, 'energy': 1.1910538655021559},\n",
              " {'id': 137, 'x': 105, 'y': 398, 'z': -500, 'energy': 2.24120903289355},\n",
              " {'id': 138, 'x': 46, 'y': 386, 'z': -500, 'energy': 3.8326744501905514},\n",
              " {'id': 139, 'x': 104, 'y': 395, 'z': -500, 'energy': 2.6935680449095822},\n",
              " {'id': 140, 'x': 25, 'y': 187, 'z': -500, 'energy': 2.1343729810307583},\n",
              " {'id': 141, 'x': 223, 'y': 67, 'z': -500, 'energy': 4.24566210156222},\n",
              " {'id': 142, 'x': 181, 'y': 289, 'z': -500, 'energy': 2.009111183565583},\n",
              " {'id': 143, 'x': 376, 'y': 91, 'z': -500, 'energy': 1.9826904593152346},\n",
              " {'id': 144, 'x': 185, 'y': 296, 'z': -500, 'energy': 4.012451784745288},\n",
              " {'id': 145, 'x': 421, 'y': 87, 'z': -500, 'energy': 3.5266927775880137},\n",
              " {'id': 146, 'x': 355, 'y': 179, 'z': -500, 'energy': 3.5486823083399077},\n",
              " {'id': 147, 'x': 176, 'y': 99, 'z': -500, 'energy': 3.8007922158777445},\n",
              " {'id': 148, 'x': 131, 'y': 404, 'z': -500, 'energy': 2.708670872958739},\n",
              " {'id': 149, 'x': 229, 'y': 161, 'z': -500, 'energy': 3.7633672277208365},\n",
              " {'id': 150, 'x': 283, 'y': 51, 'z': -500, 'energy': 2.4289253579104777},\n",
              " {'id': 151, 'x': 79, 'y': 323, 'z': -500, 'energy': 3.0994468136608484},\n",
              " {'id': 152, 'x': 356, 'y': 155, 'z': -500, 'energy': 3.999075819950385},\n",
              " {'id': 153, 'x': 61, 'y': 172, 'z': -500, 'energy': 3.8805202843045183},\n",
              " {'id': 154, 'x': 291, 'y': 427, 'z': -500, 'energy': 4.849471407415139},\n",
              " {'id': 155, 'x': 425, 'y': 200, 'z': -500, 'energy': 2.5658020355203637},\n",
              " {'id': 156, 'x': 412, 'y': 409, 'z': -500, 'energy': 1.8957863976384113},\n",
              " {'id': 157, 'x': 381, 'y': 97, 'z': -500, 'energy': 1.8600554942323861},\n",
              " {'id': 158, 'x': 363, 'y': 192, 'z': -500, 'energy': 4.742214892408862},\n",
              " {'id': 159, 'x': 265, 'y': 482, 'z': -500, 'energy': 1.427632162082153},\n",
              " {'id': 160, 'x': 186, 'y': 214, 'z': -500, 'energy': 3.918609864116089},\n",
              " {'id': 161, 'x': 374, 'y': 196, 'z': -500, 'energy': 3.6136005446885617},\n",
              " {'id': 162, 'x': 343, 'y': 458, 'z': -500, 'energy': 3.109459597847592},\n",
              " {'id': 163, 'x': 316, 'y': 351, 'z': -500, 'energy': 4.354807763290301},\n",
              " {'id': 164, 'x': 451, 'y': 158, 'z': -500, 'energy': 2.4790751743295156},\n",
              " {'id': 165, 'x': 336, 'y': 486, 'z': -500, 'energy': 3.769617671009085},\n",
              " {'id': 166, 'x': 275, 'y': 319, 'z': -500, 'energy': 4.772037160883517},\n",
              " {'id': 167, 'x': 243, 'y': 489, 'z': -500, 'energy': 3.9504307272489254},\n",
              " {'id': 168, 'x': 97, 'y': 209, 'z': -500, 'energy': 3.721820301914207},\n",
              " {'id': 169, 'x': 14, 'y': 333, 'z': -500, 'energy': 4.791219279995744},\n",
              " {'id': 170, 'x': 117, 'y': 364, 'z': -500, 'energy': 4.794618943423856},\n",
              " {'id': 171, 'x': 229, 'y': 216, 'z': -500, 'energy': 2.692481501707534},\n",
              " {'id': 172, 'x': 318, 'y': 481, 'z': -500, 'energy': 2.8665341681935876},\n",
              " {'id': 173, 'x': 465, 'y': 7, 'z': -500, 'energy': 2.8708278202201845},\n",
              " {'id': 174, 'x': 316, 'y': 180, 'z': -500, 'energy': 4.1922611129823935},\n",
              " {'id': 175, 'x': 473, 'y': 473, 'z': -500, 'energy': 4.317025274739283},\n",
              " {'id': 176, 'x': 277, 'y': 311, 'z': -500, 'energy': 3.82360893707985},\n",
              " {'id': 177, 'x': 62, 'y': 94, 'z': -500, 'energy': 1.344304912374671},\n",
              " {'id': 178, 'x': 47, 'y': 161, 'z': -500, 'energy': 4.110541717636547},\n",
              " {'id': 179, 'x': 203, 'y': 287, 'z': -500, 'energy': 2.054608022726282},\n",
              " {'id': 180, 'x': 359, 'y': 181, 'z': -500, 'energy': 1.8306088224884194},\n",
              " {'id': 181, 'x': 5, 'y': 60, 'z': -500, 'energy': 4.508048631670844},\n",
              " {'id': 182, 'x': 270, 'y': 285, 'z': -500, 'energy': 2.2803162357080464},\n",
              " {'id': 183, 'x': 482, 'y': 297, 'z': -500, 'energy': 2.918644144369984},\n",
              " {'id': 184, 'x': 87, 'y': 463, 'z': -500, 'energy': 4.042551065632372},\n",
              " {'id': 185, 'x': 292, 'y': 6, 'z': -500, 'energy': 2.5262877150579106},\n",
              " {'id': 186, 'x': 212, 'y': 438, 'z': -500, 'energy': 1.861044664129246},\n",
              " {'id': 187, 'x': 401, 'y': 311, 'z': -500, 'energy': 2.6181922290410573},\n",
              " {'id': 188, 'x': 190, 'y': 22, 'z': -500, 'energy': 4.543878808375616},\n",
              " {'id': 189, 'x': 73, 'y': 326, 'z': -500, 'energy': 4.955933945048178},\n",
              " {'id': 190, 'x': 455, 'y': 61, 'z': -500, 'energy': 4.277738067342611},\n",
              " {'id': 191, 'x': 28, 'y': 410, 'z': -500, 'energy': 1.3477303553388924},\n",
              " {'id': 192, 'x': 332, 'y': 202, 'z': -500, 'energy': 2.2561030702835825},\n",
              " {'id': 193, 'x': 171, 'y': 396, 'z': -500, 'energy': 2.6522953772723996},\n",
              " {'id': 194, 'x': 147, 'y': 238, 'z': -500, 'energy': 2.03008458970386},\n",
              " {'id': 195, 'x': 61, 'y': 409, 'z': -500, 'energy': 1.9016826480009361},\n",
              " {'id': 196, 'x': 118, 'y': 7, 'z': -500, 'energy': 4.710291748742588},\n",
              " {'id': 197, 'x': 265, 'y': 405, 'z': -500, 'energy': 2.3835392494797887},\n",
              " {'id': 198, 'x': 413, 'y': 414, 'z': -500, 'energy': 1.6493589366229569},\n",
              " {'id': 199, 'x': 309, 'y': 369, 'z': -500, 'energy': 3.4844047733955046}]"
            ]
          },
          "execution_count": 276,
          "metadata": {},
          "output_type": "execute_result"
        }
      ],
      "source": [
        "# Khai báo số lượng seabed_nodes\n",
        "# num_seabed = int(input(\"Nhập số lượng node seabed: \"))\n",
        "num_seabed = 200\n",
        "\n",
        "# Gọi hàm\n",
        "seabed_nodes = initialy_seabed_nodes(num_seabed, max_depth)\n",
        "seabed_nodes"
      ]
    },
    {
      "cell_type": "code",
      "execution_count": null,
      "metadata": {
        "colab": {
          "background_save": true
        },
        "id": "gTzDuK0f78Xj",
        "outputId": "4bdfb24f-39d0-4ddc-e853-7acae304aa22"
      },
      "outputs": [
        {
          "name": "stdout",
          "output_type": "stream",
          "text": [
            "Cluster Head: Node 104 with coordinates (233, 238, -500) and energy 3.3653800840389687\n"
          ]
        }
      ],
      "source": [
        "# HÀM TÌM NODE CLUSTER HEAD CỦA SEABED_NODE\n",
        "def find_cluster_head(seabed_nodes, min_energy):\n",
        "    # Tạo danh sách tọa độ và năng lượng của các node\n",
        "    node_coordinates = [(node['x'], node['y'], node['z']) for node in seabed_nodes]\n",
        "    node_ids = [node['id'] for node in seabed_nodes]\n",
        "    node_energy = [node['energy'] for node in seabed_nodes]\n",
        "\n",
        "    # Lọc ra các node có năng lượng đủ điều kiện\n",
        "    filtered_nodes = [node for node, energy in zip(seabed_nodes, node_energy) if energy >= min_energy]\n",
        "    filtered_coordinates = [(node['x'], node['y'], node['z']) for node in filtered_nodes]\n",
        "    filtered_ids = [node['id'] for node in filtered_nodes]\n",
        "    filtered_energy = [node['energy'] for node in filtered_nodes]\n",
        "\n",
        "    # Nếu không có node nào đủ năng lượng, trả về None\n",
        "    if not filtered_nodes:\n",
        "        return None, None, None\n",
        "\n",
        "    # Khởi tạo centroid ngẫu nhiên\n",
        "    centroid = random.choice(filtered_coordinates)\n",
        "\n",
        "    # Lặp cho đến khi centroid không thay đổi\n",
        "    for _ in range(100):\n",
        "        cluster = filtered_coordinates.copy()\n",
        "        new_centroid = tuple(sum(coord) / len(cluster) for coord in zip(*cluster))\n",
        "        if new_centroid == centroid:\n",
        "            break\n",
        "        centroid = new_centroid\n",
        "\n",
        "    # Tính khoảng cách từ mỗi node đến centroid\n",
        "    distances = [(math.sqrt((node[0] - centroid[0])**2 + (node[1] - centroid[1])**2 + (node[2] - centroid[2])**2), node_id, energy) for node, node_id, energy in zip(filtered_coordinates, filtered_ids, filtered_energy)]\n",
        "    # Tìm node có khoảng cách nhỏ nhất đến centroid làm cluster head\n",
        "    if distances:\n",
        "        cluster_head_distance, cluster_head_id, cluster_head_energy = min(distances, key=lambda x: x[0])\n",
        "        return cluster_head_id, cluster_head_energy, cluster_head_distance\n",
        "    else:\n",
        "        return None, None, None\n",
        "\n",
        "# Gọi hàm\n",
        "min_energy = 2  # Đặt ngưỡng năng lượng tối thiểu\n",
        "cluster_head_id, cluster_head_energy, cluster_head_distance = find_cluster_head(seabed_nodes, min_energy)\n",
        "\n",
        "if cluster_head_id is not None:\n",
        "    # In ra thông tin của cluster head\n",
        "    cluster_head_node = [node for node in seabed_nodes if node['id'] == cluster_head_id][0]\n",
        "    print(f\"Cluster Head: Node {cluster_head_id} with coordinates ({cluster_head_node['x']}, {cluster_head_node['y']}, {cluster_head_node['z']}) and energy {cluster_head_energy}\")\n",
        "else:\n",
        "    print(\"Không tìm thấy node cluster head phù hợp.\")"
      ]
    },
    {
      "cell_type": "markdown",
      "metadata": {
        "id": "VB11jmix9ibL"
      },
      "source": [
        "# **Khởi tạo mảng forwarder node**"
      ]
    },
    {
      "cell_type": "code",
      "execution_count": null,
      "metadata": {
        "colab": {
          "background_save": true
        },
        "id": "RIWn5F6A8PUh"
      },
      "outputs": [],
      "source": [
        "# HÀM KHỞI TẠO MẢNG FORWARDER_NODES\n",
        "def initialy_forwarder_nodes(cluster_head_node, num_forwarder, max_depth):\n",
        "  forwarder_nodes = []\n",
        "  # gán phần tử đầu tiên là cluster_head\n",
        "  cluster_head_node['id'] = 1\n",
        "  forwarder_nodes.append(cluster_head_node)\n",
        "  for i in range(2, num_forwarder + 2):\n",
        "        # Generate random x, y coordinates\n",
        "        x = random.randint(0, max_depth)\n",
        "        y = random.randint(0, max_depth)\n",
        "        # Generate random energy\n",
        "        energy = random.uniform(2, 2.5)\n",
        "        # Generate random z-coordinate for forwarder node\n",
        "        z_forwarder = random.randint(100, 500)\n",
        "        # Create forwarder node\n",
        "        forwarder_node = {\"id\": i, \"x\": x, \"y\": y, \"z\": -z_forwarder, \"energy\": energy}\n",
        "        forwarder_nodes.append(forwarder_node)\n",
        "  return forwarder_nodes"
      ]
    },
    {
      "cell_type": "code",
      "execution_count": null,
      "metadata": {
        "colab": {
          "background_save": true
        },
        "id": "vJIWkxmc86pT"
      },
      "outputs": [],
      "source": [
        "# Khai báo số lượng node forwarder\n",
        "# num_forwarder = int(input(\"Nhập số lượng node forwarder: \"))\n",
        "num_forwarder = 50\n",
        "max_depth = 1000\n",
        "\n",
        "# Gọi hàm\n",
        "forwarder_nodes = initialy_forwarder_nodes(cluster_head_node, num_forwarder, max_depth)"
      ]
    },
    {
      "cell_type": "code",
      "execution_count": null,
      "metadata": {
        "colab": {
          "background_save": true
        },
        "id": "U0YiG2qX3zcA",
        "outputId": "45ce27b2-6bd8-4b17-fe2d-08e922dc8256"
      },
      "outputs": [
        {
          "data": {
            "text/plain": [
              "[{'id': 1, 'x': 233, 'y': 238, 'z': -500, 'energy': 3.3653800840389687},\n",
              " {'id': 2, 'x': 63, 'y': 260, 'z': -212, 'energy': 2.3861356922260852},\n",
              " {'id': 3, 'x': 690, 'y': 620, 'z': -192, 'energy': 2.1147952088806132},\n",
              " {'id': 4, 'x': 308, 'y': 320, 'z': -440, 'energy': 2.1632795556485895},\n",
              " {'id': 5, 'x': 320, 'y': 869, 'z': -323, 'energy': 2.30721724771031},\n",
              " {'id': 6, 'x': 47, 'y': 841, 'z': -260, 'energy': 2.0798758100170716},\n",
              " {'id': 7, 'x': 14, 'y': 945, 'z': -322, 'energy': 2.4302972974347217},\n",
              " {'id': 8, 'x': 384, 'y': 698, 'z': -391, 'energy': 2.0984139764796317},\n",
              " {'id': 9, 'x': 151, 'y': 692, 'z': -337, 'energy': 2.4634156287743685},\n",
              " {'id': 10, 'x': 55, 'y': 114, 'z': -200, 'energy': 2.033924584216782},\n",
              " {'id': 11, 'x': 977, 'y': 769, 'z': -209, 'energy': 2.4808103659706164},\n",
              " {'id': 12, 'x': 540, 'y': 845, 'z': -353, 'energy': 2.2539652935127616},\n",
              " {'id': 13, 'x': 541, 'y': 337, 'z': -180, 'energy': 2.4871944240810917},\n",
              " {'id': 14, 'x': 510, 'y': 318, 'z': -496, 'energy': 2.1227070471154015},\n",
              " {'id': 15, 'x': 256, 'y': 103, 'z': -498, 'energy': 2.462781610418741},\n",
              " {'id': 16, 'x': 318, 'y': 221, 'z': -164, 'energy': 2.3346901808224763},\n",
              " {'id': 17, 'x': 661, 'y': 685, 'z': -206, 'energy': 2.086302453846846},\n",
              " {'id': 18, 'x': 436, 'y': 422, 'z': -425, 'energy': 2.4823789604321593},\n",
              " {'id': 19, 'x': 343, 'y': 171, 'z': -419, 'energy': 2.075603000425352},\n",
              " {'id': 20, 'x': 498, 'y': 428, 'z': -266, 'energy': 2.4790675229151056},\n",
              " {'id': 21, 'x': 353, 'y': 881, 'z': -142, 'energy': 2.2072017938840336},\n",
              " {'id': 22, 'x': 519, 'y': 707, 'z': -416, 'energy': 2.235952757671077},\n",
              " {'id': 23, 'x': 206, 'y': 589, 'z': -380, 'energy': 2.027065915733097},\n",
              " {'id': 24, 'x': 616, 'y': 258, 'z': -408, 'energy': 2.4418887860916403},\n",
              " {'id': 25, 'x': 103, 'y': 931, 'z': -125, 'energy': 2.3783830282157608},\n",
              " {'id': 26, 'x': 498, 'y': 170, 'z': -368, 'energy': 2.169062204731914},\n",
              " {'id': 27, 'x': 509, 'y': 873, 'z': -181, 'energy': 2.3663242734273964},\n",
              " {'id': 28, 'x': 48, 'y': 151, 'z': -103, 'energy': 2.1556932166555485},\n",
              " {'id': 29, 'x': 344, 'y': 764, 'z': -401, 'energy': 2.256606683038122},\n",
              " {'id': 30, 'x': 474, 'y': 3, 'z': -171, 'energy': 2.3319290796686074},\n",
              " {'id': 31, 'x': 25, 'y': 513, 'z': -224, 'energy': 2.011241982363599},\n",
              " {'id': 32, 'x': 931, 'y': 678, 'z': -359, 'energy': 2.2489988145651747},\n",
              " {'id': 33, 'x': 254, 'y': 956, 'z': -270, 'energy': 2.1735310029771595},\n",
              " {'id': 34, 'x': 298, 'y': 507, 'z': -431, 'energy': 2.388484846749297},\n",
              " {'id': 35, 'x': 187, 'y': 759, 'z': -191, 'energy': 2.062701140913302},\n",
              " {'id': 36, 'x': 499, 'y': 591, 'z': -486, 'energy': 2.3893746818324826},\n",
              " {'id': 37, 'x': 438, 'y': 405, 'z': -266, 'energy': 2.1849116694663446},\n",
              " {'id': 38, 'x': 641, 'y': 316, 'z': -346, 'energy': 2.3033433254776208},\n",
              " {'id': 39, 'x': 540, 'y': 901, 'z': -108, 'energy': 2.088325334942925},\n",
              " {'id': 40, 'x': 925, 'y': 542, 'z': -435, 'energy': 2.156489812182823},\n",
              " {'id': 41, 'x': 227, 'y': 555, 'z': -391, 'energy': 2.37420357175354},\n",
              " {'id': 42, 'x': 188, 'y': 318, 'z': -456, 'energy': 2.2621213301312717},\n",
              " {'id': 43, 'x': 691, 'y': 596, 'z': -274, 'energy': 2.0853760807811748},\n",
              " {'id': 44, 'x': 416, 'y': 393, 'z': -375, 'energy': 2.386492882971359},\n",
              " {'id': 45, 'x': 724, 'y': 736, 'z': -211, 'energy': 2.3721200262795548},\n",
              " {'id': 46, 'x': 501, 'y': 777, 'z': -232, 'energy': 2.4191595512383817},\n",
              " {'id': 47, 'x': 226, 'y': 52, 'z': -333, 'energy': 2.086708868972926},\n",
              " {'id': 48, 'x': 775, 'y': 971, 'z': -107, 'energy': 2.1562956468677426},\n",
              " {'id': 49, 'x': 343, 'y': 190, 'z': -360, 'energy': 2.0476015984851856},\n",
              " {'id': 50, 'x': 69, 'y': 269, 'z': -183, 'energy': 2.4792855932905846},\n",
              " {'id': 51, 'x': 876, 'y': 256, 'z': -182, 'energy': 2.3452469472828166}]"
            ]
          },
          "execution_count": 280,
          "metadata": {},
          "output_type": "execute_result"
        }
      ],
      "source": [
        "forwarder_nodes"
      ]
    },
    {
      "cell_type": "code",
      "execution_count": null,
      "metadata": {
        "colab": {
          "background_save": true
        },
        "id": "BQ8paSkuAUMS",
        "outputId": "ae759b3c-c4f5-4d9d-9329-cacf75447a2d"
      },
      "outputs": [
        {
          "name": "stdout",
          "output_type": "stream",
          "text": [
            "Deepest Forwarder Node: ID = 1, x = 233, y = 238, z = -500, Energy= 3.3653800840389687\n",
            "Highest Forwarder Node: ID = 14, x = 522, y = 360, z = -116, Energy= 2.4063464581199536\n"
          ]
        }
      ],
      "source": [
        "# Tìm node sâu nhất và cao nhất\n",
        "for node in forwarder_nodes:\n",
        "  distance_at_node = np.sqrt((node['x'] - sink['x'])**2 + (node['y'] - sink['y'])**2 + (node['z'] - sink['z'])**2)\n",
        "  if distance_at_node <= sink_communication_range:\n",
        "    highest = node\n",
        "deepest = forwarder_nodes[np.argmin(np.array([node['z'] for node in forwarder_nodes]))]\n",
        "\n",
        "print(f\"Deepest Forwarder Node: ID = {deepest['id']}, x = {deepest['x']}, y = {deepest['y']}, z = {deepest['z']}, Energy= {deepest['energy']}\")\n",
        "print(f\"Highest Forwarder Node: ID = {highest['id']}, x = {highest['x']}, y = {highest['y']}, z = {highest['z']}, Energy= {highest['energy']}\")"
      ]
    },
    {
      "cell_type": "markdown",
      "metadata": {
        "id": "KRkEtfI2959x"
      },
      "source": [
        "# **Khởi tạo tập node lân cận cho các node**"
      ]
    },
    {
      "cell_type": "code",
      "execution_count": null,
      "metadata": {
        "colab": {
          "background_save": true
        },
        "id": "NttW5Qbc99tH",
        "outputId": "37e8b30d-2cc2-4a14-c325-ea0b71402e84"
      },
      "outputs": [
        {
          "name": "stdout",
          "output_type": "stream",
          "text": [
            "node id 1 have neighbor: [4, 15, 19, 42, 49]\n",
            "\n",
            "node id 2 have neighbor: [10, 28, 50]\n",
            "\n",
            "node id 3 have neighbor: [17, 43, 45, 46]\n",
            "\n",
            "node id 4 have neighbor: [1, 14, 15, 18, 19, 34, 37, 42, 44, 49]\n",
            "\n",
            "node id 5 have neighbor: [8, 9, 12, 21, 27, 29, 33, 35, 46]\n",
            "\n",
            "node id 6 have neighbor: [7, 9, 25, 33, 35]\n",
            "\n",
            "node id 7 have neighbor: [6, 25, 33]\n",
            "\n",
            "node id 8 have neighbor: [5, 9, 12, 22, 23, 29, 34, 36, 41, 46]\n",
            "\n",
            "node id 9 have neighbor: [5, 6, 8, 23, 29, 31, 35, 41]\n",
            "\n",
            "node id 10 have neighbor: [2, 28, 47, 50]\n",
            "\n",
            "node id 11 have neighbor: [32]\n",
            "\n",
            "node id 12 have neighbor: [5, 8, 17, 22, 27, 29, 46]\n",
            "\n",
            "node id 13 have neighbor: [20, 37, 38, 44]\n",
            "\n",
            "node id 14 have neighbor: [4, 18, 19, 24, 26, 38, 44]\n",
            "\n",
            "node id 15 have neighbor: [1, 4, 19, 42, 47, 49]\n",
            "\n",
            "node id 16 have neighbor: [37, 49]\n",
            "\n",
            "node id 17 have neighbor: [3, 12, 27, 43, 45, 46]\n",
            "\n",
            "node id 18 have neighbor: [4, 14, 20, 24, 34, 36, 37, 38, 44]\n",
            "\n",
            "node id 19 have neighbor: [1, 4, 14, 15, 26, 42, 44, 47, 49]\n",
            "\n",
            "node id 20 have neighbor: [13, 18, 37, 38, 44]\n",
            "\n",
            "node id 21 have neighbor: [5, 27, 33, 35, 39, 46]\n",
            "\n",
            "node id 22 have neighbor: [8, 12, 29, 36, 43, 46]\n",
            "\n",
            "node id 23 have neighbor: [8, 9, 29, 34, 41]\n",
            "\n",
            "node id 24 have neighbor: [14, 18, 26, 38, 44]\n",
            "\n",
            "node id 25 have neighbor: [6, 7, 33, 35]\n",
            "\n",
            "node id 26 have neighbor: [14, 19, 24, 38, 44, 49]\n",
            "\n",
            "node id 27 have neighbor: [5, 12, 17, 21, 39, 46]\n",
            "\n",
            "node id 28 have neighbor: [2, 10, 50]\n",
            "\n",
            "node id 29 have neighbor: [5, 8, 9, 12, 22, 23, 33, 36, 41, 46]\n",
            "\n",
            "node id 30 have neighbor: []\n",
            "\n",
            "node id 31 have neighbor: [9]\n",
            "\n",
            "node id 32 have neighbor: [11, 40]\n",
            "\n",
            "node id 33 have neighbor: [5, 6, 7, 21, 25, 29, 35]\n",
            "\n",
            "node id 34 have neighbor: [4, 8, 18, 23, 36, 37, 41, 42, 44]\n",
            "\n",
            "node id 35 have neighbor: [5, 6, 9, 21, 25, 33]\n",
            "\n",
            "node id 36 have neighbor: [8, 18, 22, 29, 34, 44]\n",
            "\n",
            "node id 37 have neighbor: [4, 13, 16, 18, 20, 34, 38, 44]\n",
            "\n",
            "node id 38 have neighbor: [13, 14, 18, 20, 24, 26, 37, 44]\n",
            "\n",
            "node id 39 have neighbor: [21, 27, 46, 48]\n",
            "\n",
            "node id 40 have neighbor: [32]\n",
            "\n",
            "node id 41 have neighbor: [8, 9, 23, 29, 34, 42, 44]\n",
            "\n",
            "node id 42 have neighbor: [1, 4, 15, 19, 34, 41, 49]\n",
            "\n",
            "node id 43 have neighbor: [3, 17, 22, 45]\n",
            "\n",
            "node id 44 have neighbor: [4, 13, 14, 18, 19, 20, 24, 26, 34, 36, 37, 38, 41, 49]\n",
            "\n",
            "node id 45 have neighbor: [3, 17, 43, 46]\n",
            "\n",
            "node id 46 have neighbor: [3, 5, 8, 12, 17, 21, 22, 27, 29, 39, 45]\n",
            "\n",
            "node id 47 have neighbor: [10, 15, 19, 49]\n",
            "\n",
            "node id 48 have neighbor: [39]\n",
            "\n",
            "node id 49 have neighbor: [1, 4, 15, 16, 19, 26, 42, 44, 47]\n",
            "\n",
            "node id 50 have neighbor: [2, 10, 28]\n",
            "\n",
            "node id 51 have neighbor: []\n",
            "\n"
          ]
        }
      ],
      "source": [
        "# Khai báo bán kính giao tiếp dựa trên khoảng cách euclidean\n",
        "threshold_range = max_commnunication_range\n",
        "\n",
        "# Lập tập node lân cận\n",
        "neighbors = {node['id']: [] for node in forwarder_nodes}\n",
        "num_node = len(forwarder_nodes)\n",
        "for i in range(num_node):\n",
        "  first_node = forwarder_nodes[i]\n",
        "  for j in range(num_node):\n",
        "    if i != j:\n",
        "      second_node = forwarder_nodes[j]\n",
        "      dist = np.sqrt((first_node['x'] - second_node['x']) ** 2 + (first_node['y'] - second_node['y']) ** 2 + (first_node['z'] - second_node['z']) ** 2)\n",
        "      if dist <= threshold_range:\n",
        "        neighbors[first_node['id']].append(second_node['id'])\n",
        "        neighbors[second_node['id']].append(first_node['id'])\n",
        "    else:\n",
        "      break\n",
        "for i in range(num_node):\n",
        "  print(f'node id {forwarder_nodes[i][\"id\"]} have neighbor: {neighbors[i+1]}\\n')"
      ]
    },
    {
      "cell_type": "code",
      "execution_count": null,
      "metadata": {
        "colab": {
          "background_save": true
        },
        "id": "gifubnMMdsQy"
      },
      "outputs": [],
      "source": [
        "# Vòng lặp duyệt forwarder_nodes vào mảng neighbors\n",
        "for node in forwarder_nodes:\n",
        "    node['neighbors'] = neighbors[node['id']]"
      ]
    },
    {
      "cell_type": "markdown",
      "metadata": {
        "id": "Fk0BX59a_iGE"
      },
      "source": [
        "# **Thuật toán Qlearning**"
      ]
    },
    {
      "cell_type": "markdown",
      "metadata": {
        "id": "erKgALHjWG-8"
      },
      "source": [
        "# **Lấy thông số, file chính**"
      ]
    },
    {
      "cell_type": "code",
      "execution_count": null,
      "metadata": {
        "colab": {
          "background_save": true
        },
        "id": "GJiOQhfeWFPv"
      },
      "outputs": [],
      "source": [
        "# KHAI BÁO THAM SỐ CHUNG\n",
        "total_packet = 100 # tổng số gói\n",
        "sound_wave_speed  = 1447 # tốc độ sóng âm (m/s)\n",
        "packet_size = 128 # kích thước gói tin (bit)\n",
        "network_frequency = 25000 # tần số sóng mạng (hz)\n",
        "flow_rate = 4.5 # tốc độ dòng chảy (m/s)\n",
        "spreading_coefficient = 1.5 # hệ số lan truyền  (m/s)\n",
        "backoff_time = 1 # average value for the range provided - thoi gian cho va thu lai (s)\n",
        "data_rate = 1000 # tỉ lệ khởi tạo dữ liệu (10 kbps)\n",
        "packet_arrival_rate = 0.1 # packet per second"
      ]
    },
    {
      "cell_type": "code",
      "execution_count": null,
      "metadata": {
        "colab": {
          "background_save": true
        },
        "id": "9Ebw-PVzrj6D"
      },
      "outputs": [],
      "source": [
        "# KHAI BÁO THAM SỐ NĂNG LƯỢNG\n",
        "energy_consume_per_bit = 1 * 10 ** -10 # 100 picojun / bit /m2\n",
        "energy_dissipated_per_bit = 5 * 10 ** -8 # 50 nanojun / bit\n",
        "energy_received = packet_size * 8 * energy_consume_per_bit"
      ]
    },
    {
      "cell_type": "code",
      "execution_count": null,
      "metadata": {
        "colab": {
          "background_save": true
        },
        "id": "5Af5bRTS-_pt"
      },
      "outputs": [],
      "source": [
        "# Tham số năng lượng dựa theo công thức của thày Minh\n",
        "P_tx = 2 # công suất phát (w)\n",
        "P_rx = 0.1 # công suất thu (w)"
      ]
    },
    {
      "cell_type": "code",
      "execution_count": null,
      "metadata": {
        "colab": {
          "background_save": true
        },
        "id": "fglQLJH6qBJU"
      },
      "outputs": [],
      "source": [
        "# '''\n",
        "# chỉnh sửa hàm reward, epsilon - greedy\n",
        "# chiến thuật triển khai Q learning theo phương pháp epsilon-greedy, sử dụng cơ chế random để đưa ra sự lựa chọn cho node tiếp theo\n",
        "# 1. phương pháp lựa chọn node\n",
        "#  - chọn theo hướng khám phá (exploration): dùng biến epsilon để tạo điểm tham chiếu, random lựa chọn node tiếp theo bất kì trong tập node lân cận\n",
        "#  - chọn theo hướng khai thác (exploitation): giá trị random vượt quá điểm tham chiếu, lựa chọn node có giá trị Q cao nhất nhưng chưa xuất hiện trong tập node lân cận\n",
        "# 2. cập nhật giá trị Q tại mỗi lần tìm được node khả thi\n",
        "# -> phương pháp epsilon greedy cân bằng giữa việc khám phá và khai thác, khám phá các đường đi khả thi và khai thác, tránh rơi vào local optimal\n",
        "# '''\n",
        "\n",
        "# # test\n",
        "# test = []\n",
        "\n",
        "# # Khai báo đầu vào\n",
        "# nodes = forwarder_nodes\n",
        "# # Khai báo node bắt đầu đưa gói tin và đích đến\n",
        "# start_node = nodes[0]\n",
        "# destination_node = highest\n",
        "\n",
        "# # Khai báo tham số thuật toán\n",
        "# gamma = 0.5  # Discount factor\n",
        "# alpha = 0.5  # Learning rate\n",
        "# epsilon = 0.8 # Initial exploration rate\n",
        "\n",
        "# # Khởi tạo giá trị Q\n",
        "# q_table = np.random.rand(len(nodes), len(nodes)) * 0.1  # Initialize Q-table with small random values\n",
        "\n",
        "# # Hàm tính trung bình năng lượng còn lại của các node truyền\n",
        "# def average_residual_energy_ps(energy_cost_to_transmit, neighbors):\n",
        "#     if len(neighbors) == 0: return 0\n",
        "#     sum_e = 0\n",
        "#     for id in neighbors:\n",
        "#       node = forwarder_nodes[id-1]\n",
        "#       sum_e += node['energy'] - energy_cost_to_transmit\n",
        "#     return sum_e / len(neighbors)\n",
        "\n",
        "# # Hàm tính trung bình năng lượng còn lại của các node nhận\n",
        "# def average_residual_energy_pr(neighbors):\n",
        "#     if len(neighbors) == 0: return 0\n",
        "#     sum_e = 0\n",
        "#     for id in neighbors:\n",
        "#       node = forwarder_nodes[id-1]\n",
        "#       sum_e += node['energy'] - energy_received\n",
        "#     return sum_e / len(neighbors)\n",
        "\n",
        "# # Hàm reward\n",
        "# def reward(current_node, next_node, energy_consumption):\n",
        "#     P_s = 1/len(current_node['neighbors'])\n",
        "#     C_ps = 1 - (current_node['energy'] - energy_consumption / current_node['energy'])\n",
        "#     C_pr = 1 - (current_node['energy'] - energy_received / next_node['energy'])\n",
        "#     G_ps = 2 / math.pi * math.atan((current_node['energy'] - energy_consumption) - average_residual_energy_ps(energy_consumption, current_node['neighbors']))\n",
        "#     G_pr = 2 / math.pi * math.atan((current_node['energy'] - energy_received) - average_residual_energy_pr(next_node['neighbors']))\n",
        "#     Ras_pspr = - (-1) - 0.1 * (C_ps + C_pr) + 0.01 * (G_ps + G_pr)\n",
        "#     return P_s * Ras_pspr\n",
        "\n",
        "# # HÀM ÁP DỤNG Q_learning\n",
        "# invalid_nodes = set()  # tập lưu trữ node không khả thi để chuyển tiếp (node lân cận đã được duyệt qua hết hoặc tập lân cận rỗng)\n",
        "# visited = set([start_node['id']])\n",
        "# rollback = set()\n",
        "# test = 0\n",
        "# def q_learning(start_node, destination_node):\n",
        "#     current_node = start_node\n",
        "#     path = []\n",
        "#     iterations = 0\n",
        "#     max_iterations = 1000000 # model - free train 1000 lần\n",
        "#     number_of_rollback_trigger = 0\n",
        "#     node_stack = [start_node]\n",
        "\n",
        "#     while current_node != destination_node and iterations < max_iterations:\n",
        "#         # lựa chọn node tiếp theo thông qua phương pháp epsilon-greedy\n",
        "#         if random.random() < epsilon:\n",
        "#             # Explore: chọn node random trong tập node lân cận\n",
        "#             available_neighbors = [node for node in nodes if node['id'] in current_node['neighbors'] and node['id'] not in visited and node['id'] not in invalid_nodes and node['z'] > current_node['z']]\n",
        "#             if available_neighbors:\n",
        "#                 next_node = random.choice(available_neighbors)\n",
        "#                 # print(f'current node with id: {current_node[\"id\"]} random select next node with id: {next_node[\"id\"]}')\n",
        "#                 visited.add(next_node['id'])\n",
        "#             else:\n",
        "#                 # cơ chế roll back\n",
        "#                 if path:\n",
        "#                     number_of_rollback_trigger+=1\n",
        "#                     rollback.add(current_node['id'])\n",
        "#                     # print(f'trigger roll back at node with id: {current_node[\"id\"]}')\n",
        "#                     # node vừa rồi được đánh dấu là node không khả thi để chuyển tiếp\n",
        "#                     invalid_nodes.add(current_node['id'])\n",
        "#                     next_node = nodes[path.pop()-1]\n",
        "#                     # chọn node khcs trong tập lân cận\n",
        "#                     current_node = next_node\n",
        "#                     continue\n",
        "#                 else:\n",
        "#                     # dừng thuật toán nếu toàn bộ node lân cận đã đi qua\n",
        "#                     break\n",
        "#         else:\n",
        "#             # Exploit: chọn node có giá trị Q cao nhất mà chưa xuất hiện trong tập visited\n",
        "#             available_neighbors = [node for node in nodes if node['id'] in current_node['neighbors'] and node['id'] not in visited and node['id'] not in invalid_nodes and node['z'] > current_node['z']]\n",
        "#             # available_neighbors = [node for node in nodes if node['id'] in current_node['neighbors'] and node['id'] not in invalid_nodes]\n",
        "#             if available_neighbors:\n",
        "#                 available_neighbors.sort(key=lambda x: q_table[current_node['id'] - 1, x['id'] - 1], reverse=True)\n",
        "#                 next_node = available_neighbors[0]\n",
        "#                 # print(f'current node with id: {current_node[\"id\"]} maximum Q select next node with id: {next_node[\"id\"]}')\n",
        "#                 visited.add(next_node['id'])\n",
        "#             else:\n",
        "#                 # tương tự trên\n",
        "#                 if path:\n",
        "#                     number_of_rollback_trigger+=1\n",
        "#                     rollback.add(current_node['id'])\n",
        "#                     # print(f'trigger roll back at node with id: {current_node[\"id\"]}')\n",
        "#                     # node vừa rồi được đánh dấu là node không khả thi để chuyển tiếp\n",
        "#                     invalid_nodes.add(current_node['id'])\n",
        "#                     next_node = nodes[path.pop()-1]\n",
        "#                     # chọn node khcs trong tập lân cận\n",
        "#                     current_node = next_node\n",
        "#                     continue\n",
        "#                 else:\n",
        "#                     # dừng thuật toán nếu toàn bộ node lân cận đã đi qua\n",
        "#                     break\n",
        "\n",
        "#         # tính năng lượng và khoảng cách truyền gói tin\n",
        "#         transmission_distance = np.sqrt((current_node['x'] - next_node['x']) ** 2 + (current_node['y'] - next_node['y']) ** 2 + (current_node['z'] - next_node['z']) ** 2)\n",
        "#         energy_cost_to_transmit = packet_size * (energy_consume_per_bit + energy_dissipated_per_bit * transmission_distance**2)\n",
        "#         # cập nhật giá trị Q\n",
        "#         q_table[current_node['id'] - 1, next_node['id'] - 1] = (alpha) * q_table[current_node['id'] - 1, next_node['id'] - 1] + \\\n",
        "#                                                                alpha * (reward(current_node, next_node, energy_cost_to_transmit) + gamma * max(q_table[next_node['id'] - 1, :]))\n",
        "\n",
        "#         # di chuyển tới node tiếp theo và cập nhật hướng di chuyển\n",
        "#         path.append(current_node['id'])\n",
        "#         current_node = next_node\n",
        "#         iterations += 1\n",
        "\n",
        "#         if next_node == destination_node:\n",
        "#           path.append(next_node['id'])\n",
        "\n",
        "#     return path, number_of_rollback_trigger\n",
        "\n",
        "# # Chạy thuật toán\n",
        "# min_hop = len(nodes)\n",
        "# optimal_policy = []\n",
        "# val = 600\n",
        "# for i in range(100000):\n",
        "#   optimal_path_epsilon_greedy, num = q_learning(start_node, destination_node)\n",
        "#   current_hop = len(optimal_path_epsilon_greedy)\n",
        "#   if optimal_path_epsilon_greedy and  current_hop + num <= min_hop + val :\n",
        "#     optimal_policy = optimal_path_epsilon_greedy\n",
        "#     min_hop = current_hop\n",
        "#     val = num\n",
        "# print(f'Best path: {\" -> \".join(str(node_id) for node_id in optimal_policy)}')\n",
        "# print(f'Minimum hop count: {min_hop}')\n",
        "# print(f'number of roll back being trigger: {val}')"
      ]
    },
    {
      "cell_type": "code",
      "execution_count": null,
      "metadata": {
        "colab": {
          "background_save": true
        },
        "id": "DI8_pVaU6duu",
        "outputId": "8a28ea89-adf7-454d-9ce0-efd995cab8b3"
      },
      "outputs": [
        {
          "name": "stdout",
          "output_type": "stream",
          "text": [
            "Best path: \n",
            "Minimum hop count: 51\n",
            "number of roll back being trigger: 600\n"
          ]
        }
      ],
      "source": [
        "'''\n",
        "chỉnh sửa hàm reward, epsilon - greedy\n",
        "chiến thuật triển khai Q learning theo phương pháp epsilon-greedy, sử dụng cơ chế random để đưa ra sự lựa chọn cho node tiếp theo\n",
        "1. phương pháp lựa chọn node\n",
        " - chọn theo hướng khám phá (exploration): dùng biến epsilon để tạo điểm tham chiếu, random lựa chọn node tiếp theo bất kì trong tập node lân cận\n",
        " - chọn theo hướng khai thác (exploitation): giá trị random vượt quá điểm tham chiếu, lựa chọn node có giá trị Q cao nhất nhưng chưa xuất hiện trong tập node lân cận\n",
        "2. cập nhật giá trị Q tại mỗi lần tìm được node khả thi\n",
        "-> phương pháp epsilon greedy cân bằng giữa việc khám phá và khai thác, khám phá các đường đi khả thi và khai thác, tránh rơi vào local optimal\n",
        "'''\n",
        "\n",
        "# Khai báo đầu vào\n",
        "nodes = forwarder_nodes\n",
        "# Khai báo node bắt đầu đưa gói tin và đích đến\n",
        "start_node = nodes[0]\n",
        "destination_node = highest\n",
        "\n",
        "# Khai báo tham số thuật toán\n",
        "gamma = 0.5  # Discount factor\n",
        "alpha = 0.5  # Learning rate\n",
        "epsilon = 0.7 # Initial exploration rate\n",
        "\n",
        "# Khởi tạo giá trị Q\n",
        "q_table = np.random.rand(len(nodes), len(nodes)) * 0.1  # Initialize Q-table with small random values\n",
        "\n",
        "# Hàm tính trung bình năng lượng còn lại của các node truyền\n",
        "def average_residual_energy_ps(energy_cost_to_transmit, neighbors):\n",
        "    if len(neighbors) == 0: return 0\n",
        "    sum_e = 0\n",
        "    for id in neighbors:\n",
        "      node = forwarder_nodes[id-1]\n",
        "      sum_e += node['energy'] - energy_cost_to_transmit\n",
        "    return sum_e / len(neighbors)\n",
        "\n",
        "# Hàm tính trung bình năng lượng còn lại của các node nhận\n",
        "def average_residual_energy_pr(neighbors):\n",
        "    if len(neighbors) == 0: return 0\n",
        "    sum_e = 0\n",
        "    for id in neighbors:\n",
        "      node = forwarder_nodes[id-1]\n",
        "      sum_e += node['energy'] - energy_received\n",
        "    return sum_e / len(neighbors)\n",
        "\n",
        "# Hàm reward\n",
        "def reward(current_node, next_node, energy_consumption):\n",
        "    P_s = 1/len(current_node['neighbors'])\n",
        "    C_ps = 1 - (current_node['energy'] - energy_consumption / current_node['energy'])\n",
        "    C_pr = 1 - (current_node['energy'] - energy_received / next_node['energy'])\n",
        "    G_ps = 2 / math.pi * math.atan((current_node['energy'] - energy_consumption) - average_residual_energy_ps(energy_consumption, current_node['neighbors']))\n",
        "    G_pr = 2 / math.pi * math.atan((current_node['energy'] - energy_received) - average_residual_energy_pr(next_node['neighbors']))\n",
        "    Ras_pspr = - (-1) - 0.1 * (C_ps + C_pr) + 0.01 * (G_ps + G_pr)\n",
        "    return P_s * Ras_pspr\n",
        "\n",
        "# HÀM ÁP DỤNG Q_learning\n",
        "invalid_nodes = set()  # tập lưu trữ node không khả thi để chuyển tiếp (node lân cận đã được duyệt qua hết hoặc tập lân cận rỗng)\n",
        "visited = set([start_node['id']])\n",
        "rollback = set()\n",
        "\n",
        "def q_learning(start_node, destination_node):\n",
        "    current_node = start_node\n",
        "    path = []\n",
        "    iterations = 0\n",
        "    max_iterations = 1000000 # model - free train 1000 lần\n",
        "    number_of_rollback_trigger = 0\n",
        "    node_stack = [start_node]\n",
        "\n",
        "    while current_node != destination_node and iterations < max_iterations:\n",
        "        # lựa chọn node tiếp theo thông qua phương pháp epsilon-greedy\n",
        "        if random.random() < epsilon:\n",
        "            # Explore: chọn node random trong tập node lân cận\n",
        "            available_neighbors = [node for node in nodes if node['id'] in current_node['neighbors'] and node['id'] not in visited and node['id'] not in invalid_nodes and node['z'] > current_node['z']]\n",
        "            if available_neighbors:\n",
        "                next_node = random.choice(available_neighbors)\n",
        "                # print(f'current node with id: {current_node[\"id\"]} random select next node with id: {next_node[\"id\"]}')\n",
        "                visited.add(next_node['id'])\n",
        "            else:\n",
        "                # cơ chế roll back\n",
        "                if path:\n",
        "                    number_of_rollback_trigger+=1\n",
        "                    rollback.add(current_node['id'])\n",
        "                    # print(f'trigger roll back at node with id: {current_node[\"id\"]}')\n",
        "                    # node vừa rồi được đánh dấu là node không khả thi để chuyển tiếp\n",
        "                    invalid_nodes.add(current_node['id'])\n",
        "                    next_node = nodes[path.pop()-1]\n",
        "                    # chọn node khcs trong tập lân cận\n",
        "                    current_node = next_node\n",
        "                    continue\n",
        "                else:\n",
        "                    # dừng thuật toán nếu toàn bộ node lân cận đã đi qua\n",
        "                    break\n",
        "        else:\n",
        "            # Exploit: chọn node có giá trị Q cao nhất mà chưa xuất hiện trong tập visited\n",
        "            available_neighbors = [node for node in nodes if node['id'] in current_node['neighbors'] and node['id'] not in visited and node['id'] not in invalid_nodes and node['z'] > current_node['z']]\n",
        "            # available_neighbors = [node for node in nodes if node['id'] in current_node['neighbors'] and node['id'] not in invalid_nodes]\n",
        "            if available_neighbors:\n",
        "                heuristic_values = [(node, heuristic_function(node, destination_node, nodes)) for node in available_neighbors]\n",
        "                sorted_neighbors = sorted(heuristic_values, key=lambda x: (x[1], -q_table[current_node['id'] - 1, x[0]['id'] - 1]))\n",
        "                next_node = sorted_neighbors[0][0]\n",
        "                # print(f'current node with id: {current_node[\"id\"]} maximum Q select next node with id: {next_node[\"id\"]}')\n",
        "                visited.add(next_node['id'])\n",
        "            else:\n",
        "                # tương tự trên\n",
        "                if path:\n",
        "                    number_of_rollback_trigger+=1\n",
        "                    rollback.add(current_node['id'])\n",
        "                    # print(f'trigger roll back at node with id: {current_node[\"id\"]}')\n",
        "                    # node vừa rồi được đánh dấu là node không khả thi để chuyển tiếp\n",
        "                    invalid_nodes.add(current_node['id'])\n",
        "                    next_node = nodes[path.pop()-1]\n",
        "                    # chọn node khcs trong tập lân cận\n",
        "                    current_node = next_node\n",
        "                    continue\n",
        "                else:\n",
        "                    # dừng thuật toán nếu toàn bộ node lân cận đã đi qua\n",
        "                    break\n",
        "\n",
        "        # tính năng lượng và khoảng cách truyền gói tin\n",
        "        transmission_distance = np.sqrt((current_node['x'] - next_node['x']) ** 2 + (current_node['y'] - next_node['y']) ** 2 + (current_node['z'] - next_node['z']) ** 2)\n",
        "        energy_cost_to_transmit = packet_size * (energy_consume_per_bit + energy_dissipated_per_bit * transmission_distance**2)\n",
        "        # cập nhật giá trị Q\n",
        "        q_table[current_node['id'] - 1, next_node['id'] - 1] = (alpha) * q_table[current_node['id'] - 1, next_node['id'] - 1] + \\\n",
        "                                                               alpha * (reward(current_node, next_node, energy_cost_to_transmit) + gamma * max(q_table[next_node['id'] - 1, :]))\n",
        "\n",
        "        # di chuyển tới node tiếp theo và cập nhật hướng di chuyển\n",
        "        path.append(current_node['id'])\n",
        "        current_node = next_node\n",
        "        iterations += 1\n",
        "\n",
        "        if next_node == destination_node:\n",
        "          path.append(next_node['id'])\n",
        "\n",
        "    return path, number_of_rollback_trigger\n",
        "\n",
        "# hàm tối ưu hóa moves ở mỗi state dựa vào\n",
        "def heuristic_function(node, destination_node, invalid_nodes):\n",
        "    # tính khoảng cách giữa node hiện tịa và đích\n",
        "    distance_cost = np.sqrt((node['x'] - destination_node['x'])**2 + (node['y'] - destination_node['y'])**2 + (node['z'] - destination_node['z'])**2)\n",
        "\n",
        "    # tính số lượng node lân cận không khả thi - khô\n",
        "    invalid_neighbor_count = sum(1 for neighbor_id in node['neighbors'] if neighbor_id in invalid_nodes)\n",
        "\n",
        "    # Combine the distance cost and the invalid neighbor penalty\n",
        "    heuristic_value = distance_cost  + (invalid_neighbor_count * 0.9)\n",
        "\n",
        "    return heuristic_value\n",
        "\n",
        "# hàm tối ưu hóa moves ở mỗi state dựa vào giá trị di chuyển ở mỗi node\n",
        "# def heuristic_function(node, destination_node, path_so_far, nodes):\n",
        "#     # tính khoảng cách giữa node hiện tịa và đích\n",
        "#     distance_to_destination = np.sqrt((node['x'] - destination_node['x'])**2 + (node['y'] - destination_node['y'])**2 + (node['z'] - destination_node['z'])**2)\n",
        "\n",
        "#     # tính tổng khoảnh cách đã đi\n",
        "#     if path_so_far:\n",
        "#         previous_node_id = path_so_far[-1]\n",
        "#         previous_node = next(n for n in nodes if n['id'] == previous_node_id)\n",
        "#         distance_from_previous = np.sqrt((node['x'] - previous_node['x'])**2 + (node['y'] - previous_node['y'])**2 + (node['z'] - previous_node['z'])**2)\n",
        "#         total_distance_so_far = sum(np.sqrt((nodes[path_so_far[i]-1]['x'] - nodes[path_so_far[i+1]-1]['x'])**2 + (nodes[path_so_far[i]-1]['y'] - nodes[path_so_far[i+1]-1]['y'])**2 + (nodes[path_so_far[i]-1]['z'] - nodes[path_so_far[i+1]-1]['z'])**2) for i in range(len(path_so_far)-1))\n",
        "#         total_distance = total_distance_so_far + distance_from_previous\n",
        "#     else:\n",
        "#         total_distance = 0\n",
        "\n",
        "#     heuristic_value = total_distance + distance_to_destination\n",
        "\n",
        "#     return heuristic_value\n",
        "# Chạy thuật toán\n",
        "\n",
        "min_hop = len(nodes)\n",
        "optimal_policy = []\n",
        "val = 600\n",
        "for i in range(10000):\n",
        "  optimal_path_epsilon_greedy, num = q_learning(start_node, destination_node)\n",
        "  current_hop = len(optimal_path_epsilon_greedy)\n",
        "  if optimal_path_epsilon_greedy and  current_hop <= min_hop:\n",
        "    optimal_policy = optimal_path_epsilon_greedy\n",
        "    min_hop = current_hop\n",
        "    val = num\n",
        "print(f'Best path: {\" -> \".join(str(node_id) for node_id in optimal_policy)}')\n",
        "print(f'Minimum hop count: {min_hop}')\n",
        "print(f'number of roll back being trigger: {val}')"
      ]
    },
    {
      "cell_type": "code",
      "execution_count": null,
      "metadata": {
        "colab": {
          "background_save": true
        },
        "id": "dT0_NqJUfuj1"
      },
      "outputs": [],
      "source": [
        "# Tính transmission delay\n",
        "transmission_delay = packet_size / data_rate ;\n",
        "\n",
        "# Tính độ trễ lan truyền\n",
        "def calculate_propagation_delay(route):\n",
        "  last_node = nodes[route[len(route) - 1] - 1]\n",
        "  distance_from_last_node_to_sink = np.sqrt((last_node['x'] - sink['x'])**2 + (last_node['y'] - sink['y'])**2 + (last_node['z'] - sink['z'])**2)\n",
        "  _,total_path_hop_distance = calculate_transmission_energy(route)\n",
        "  total_distance = sum(total_path_hop_distance) + distance_from_last_node_to_sink\n",
        "  propagation_delay = total_distance / sound_wave_speed\n",
        "  return propagation_delay\n",
        "\n",
        "# Tính end-to-end delay\n",
        "def calculate_end_to_end_delay(route):\n",
        "    propagation_delay = calculate_propagation_delay(route)\n",
        "    return propagation_delay + transmission_delay + backoff_time\n",
        "\n",
        "# Tính thời gian truyền từ node CH đến các node forwarder và từ forwarder đến sink\n",
        "def calculate_total_transfer_time(route):\n",
        "  # return calculate_end_to_end_delay() * (len(route) + num * 2)\n",
        "    return (calculate_propagation_delay(route) / 1000) * 2 * (len(route))\n",
        "\n",
        "# Tính tỉ lệ dữ liệu vượt qua thành công (pdr)\n",
        "def calculate_pdr(route):\n",
        "  transfer_time = calculate_total_transfer_time(route)\n",
        "  received_packet = total_packet * math.exp(-transfer_time * sound_wave_speed / packet_size)\n",
        "  return received_packet / total_packet * 100 # tính pdr dưới dạng %\n",
        "\n",
        "# Tính thời gian truyền giữa các node\n",
        "def calculate_transfer_time():\n",
        "  return total_packet * (packet_size / 1024)\n",
        "\n",
        "# Tính throughput\n",
        "def calculate_throughput(route):\n",
        "  end_to_end_delay = calculate_end_to_end_delay(route)\n",
        "  return total_packet * packet_size / ((calculate_transfer_time() + end_to_end_delay) * len(route)) # bit/s\n",
        "# tham số năng lượng dựa theo công thức của thày Minh\n",
        "\n",
        "# Tính năng lượng sau khi có routing path, hàm này kh sử dụng kh cmt lại do có biến distance tính từ đây\n",
        "def calculate_transmission_energy(route):\n",
        "    energy_consume_per_transmission = []\n",
        "    distance = []\n",
        "    for i, node_id in enumerate(route):\n",
        "      if i == len(route) - 1:\n",
        "        break\n",
        "      j = i + 1\n",
        "      current_node = nodes[node_id - 1]\n",
        "      next_node = nodes[route[j] -1]\n",
        "      transmission_distance = np.sqrt((current_node['x'] - next_node['x']) ** 2 + (current_node['y'] - next_node['y']) ** 2 + (current_node['z'] - next_node['z']) ** 2)\n",
        "      energy_cost_to_transmit = packet_size * 8 * (energy_consume_per_bit + energy_dissipated_per_bit * transmission_distance**2)\n",
        "      energy_consume_per_transmission.append(energy_cost_to_transmit)\n",
        "      distance.append(transmission_distance)\n",
        "    return energy_consume_per_transmission, distance\n",
        "\n",
        "# Hàm tính năng lượng theo công thức của thầy Minh\n",
        "# def calculate_consume_energy(route):\n",
        "#   total_energy_in_route = []\n",
        "#   for node_id in route:\n",
        "#     current_node = forwarder_nodes[node_id - 1]\n",
        "#     total_energy_in_route.append(current_node['energy'])\n",
        "#   initial_energy = np.mean(total_energy_in_route)\n",
        "#   _, distance_path  =  calculate_transmission_energy(route)\n",
        "#   distance_from_ch_sink = 81\n",
        "#   transmission_time = distance_from_ch_sink / flow_rate\n",
        "#   energy_transmitted = P_tx * transmission_time\n",
        "#   energy_received = P_rx * transmission_time\n",
        "#   energy_consume = (energy_transmitted + energy_received) / len(route)\n",
        "#   remain_energy = initial_energy - energy_consume\n",
        "#   return energy_consume, remain_energy\n",
        "\n",
        "# e_consume, remain = calculate_consume_energy(optimal_policy)\n",
        "# print(f'energy consume : {e_consume}, energy remain: {remain}')"
      ]
    },
    {
      "cell_type": "code",
      "execution_count": null,
      "metadata": {
        "colab": {
          "base_uri": "https://localhost:8080/",
          "height": 211
        },
        "id": "m1hF1WcUgmWd",
        "outputId": "5d8ceb4e-8e34-4f3f-d3f4-87b47aa4f502"
      },
      "outputs": [
        {
          "ename": "IndexError",
          "evalue": "list index out of range",
          "output_type": "error",
          "traceback": [
            "\u001b[0;31m---------------------------------------------------------------------------\u001b[0m",
            "\u001b[0;31mIndexError\u001b[0m                                Traceback (most recent call last)",
            "\u001b[0;32m<ipython-input-272-7e0e6c2b1d21>\u001b[0m in \u001b[0;36m<cell line: 9>\u001b[0;34m()\u001b[0m\n\u001b[1;32m      7\u001b[0m   \u001b[0mremaining_energy\u001b[0m\u001b[0;34m.\u001b[0m\u001b[0mappend\u001b[0m\u001b[0;34m(\u001b[0m\u001b[0mnode\u001b[0m\u001b[0;34m[\u001b[0m\u001b[0;34m'energy'\u001b[0m\u001b[0;34m]\u001b[0m \u001b[0;34m-\u001b[0m \u001b[0menergy_consume_per_transmission\u001b[0m\u001b[0;34m[\u001b[0m\u001b[0mflag\u001b[0m\u001b[0;34m]\u001b[0m\u001b[0;34m)\u001b[0m\u001b[0;34m\u001b[0m\u001b[0;34m\u001b[0m\u001b[0m\n\u001b[1;32m      8\u001b[0m   \u001b[0mflag\u001b[0m\u001b[0;34m+=\u001b[0m\u001b[0;36m1\u001b[0m\u001b[0;34m\u001b[0m\u001b[0;34m\u001b[0m\u001b[0m\n\u001b[0;32m----> 9\u001b[0;31m \u001b[0mremaining_energy\u001b[0m\u001b[0;34m.\u001b[0m\u001b[0mappend\u001b[0m\u001b[0;34m(\u001b[0m\u001b[0mnodes\u001b[0m\u001b[0;34m[\u001b[0m\u001b[0moptimal_policy\u001b[0m\u001b[0;34m[\u001b[0m\u001b[0mlen\u001b[0m\u001b[0;34m(\u001b[0m\u001b[0moptimal_policy\u001b[0m\u001b[0;34m)\u001b[0m \u001b[0;34m-\u001b[0m \u001b[0;36m1\u001b[0m\u001b[0;34m]\u001b[0m \u001b[0;34m-\u001b[0m \u001b[0;36m1\u001b[0m\u001b[0;34m]\u001b[0m\u001b[0;34m[\u001b[0m\u001b[0;34m'energy'\u001b[0m\u001b[0;34m]\u001b[0m \u001b[0;34m-\u001b[0m \u001b[0menergy_received\u001b[0m\u001b[0;34m)\u001b[0m\u001b[0;34m\u001b[0m\u001b[0;34m\u001b[0m\u001b[0m\n\u001b[0m\u001b[1;32m     10\u001b[0m \u001b[0mpdr\u001b[0m \u001b[0;34m=\u001b[0m \u001b[0mcalculate_pdr\u001b[0m\u001b[0;34m(\u001b[0m\u001b[0moptimal_policy\u001b[0m\u001b[0;34m)\u001b[0m\u001b[0;34m\u001b[0m\u001b[0;34m\u001b[0m\u001b[0m\n\u001b[1;32m     11\u001b[0m \u001b[0mthroughput\u001b[0m \u001b[0;34m=\u001b[0m \u001b[0mcalculate_throughput\u001b[0m\u001b[0;34m(\u001b[0m\u001b[0moptimal_policy\u001b[0m\u001b[0;34m)\u001b[0m\u001b[0;34m\u001b[0m\u001b[0;34m\u001b[0m\u001b[0m\n",
            "\u001b[0;31mIndexError\u001b[0m: list index out of range"
          ]
        }
      ],
      "source": [
        "energy_consume_per_transmission, distance = calculate_transmission_energy(optimal_policy)\n",
        "# calculate energy remainig after send packet\n",
        "remaining_energy = []\n",
        "flag = 0\n",
        "for id in range(len(optimal_policy) - 1):\n",
        "  node = forwarder_nodes[id]\n",
        "  remaining_energy.append(node['energy'] - energy_consume_per_transmission[flag])\n",
        "  flag+=1\n",
        "remaining_energy.append(nodes[optimal_policy[len(optimal_policy) - 1] - 1]['energy'] - energy_received)\n",
        "pdr = calculate_pdr(optimal_policy)\n",
        "throughput = calculate_throughput(optimal_policy)\n",
        "end_to_end_delay = calculate_end_to_end_delay(optimal_policy)\n",
        "print(f'Q learning epsilon greedy: \\n - PDR: {pdr:.2f} \\n - throughput: {throughput:.2f} \\n - etedelay: {end_to_end_delay:.2f} \\n - energy consume at each node: {energy_consume_per_transmission} \\n - energy remain at each node after transmit and receive data: {remaining_energy}')\n",
        "print(f'debug distance: {distance}')\n",
        "print(f'total distacne: {sum(distance)}')"
      ]
    },
    {
      "cell_type": "code",
      "execution_count": null,
      "metadata": {
        "colab": {
          "background_save": true
        },
        "id": "2o3Fmmq2z0SQ"
      },
      "outputs": [],
      "source": [
        "# # Hàm tính hệ số suy giảm âm thanh alpha(f)\n",
        "# def alpha(f):\n",
        "#     f_squared = f ** 2\n",
        "#     alpha = 0.11 * (f_squared / (1 + f_squared)) + 44 * (f_squared / (4100 + f_squared)) + 2.75e-4 * f_squared + 0.003\n",
        "#     return 10 ** (alpha / 10)\n",
        "\n",
        "# # Hàm tính tổn hao đường truyền A(d, f)\n",
        "# def path_loss(d, f, k=1.5):\n",
        "#     a = d ** k * alpha(f) ** d\n",
        "#     return a\n",
        "\n",
        "# # Hàm tính SNR(d)\n",
        "# def snr(d, f, Eb, N0, k=1.5):\n",
        "#     snr_val = (Eb / path_loss(d, f, k)) / N0\n",
        "#     return snr_val\n",
        "\n",
        "# # Hàm tính tỷ lệ lỗi bit BER cho BPSK\n",
        "# def ber(d, f, Eb, N0, k=1.5):\n",
        "#     snr_val = snr(d, f, Eb, N0, k)\n",
        "#     ber_val = 0.5 * (1 - math.sqrt(snr_val / (1 + snr_val)))\n",
        "#     return ber_val\n",
        "\n",
        "# # Hàm tính xác suất truyền thành công l bit dữ liệu\n",
        "# def successful_transmission_prob(d, f, l, Eb, N0, k=1.5):\n",
        "#     ber_val = ber(d, f, Eb, N0, k)\n",
        "#     prob = (1 - ber_val) ** l\n",
        "#     return prob"
      ]
    },
    {
      "cell_type": "code",
      "execution_count": null,
      "metadata": {
        "colab": {
          "background_save": true
        },
        "id": "HMmtu5E6Ve_z",
        "outputId": "2868f6ee-78d4-4f86-b86b-f4e37f9e7953"
      },
      "outputs": [
        {
          "name": "stdout",
          "output_type": "stream",
          "text": [
            "Total initial energy: 116.30\n",
            "Total energy consumed: 0.00\n",
            "Total remaining energy: 0.00\n"
          ]
        }
      ],
      "source": [
        "# ENERGY\n",
        "\n",
        "# Tính tổng năng lượng ban đầu\n",
        "total_initial_energy = []\n",
        "for node in forwarder_nodes:\n",
        "    total_initial_energy.append(node['energy'])\n",
        "initial_energy = sum(total_initial_energy)\n",
        "# Tính tổng năng lượng tiêu thụ\n",
        "total_energy_consumed = sum(energy_consume_per_transmission)\n",
        "\n",
        "# Tính tổng năng lượng còn lại\n",
        "total_remaining_energy = sum(remaining_energy)\n",
        "\n",
        "# In ra kết quả\n",
        "print(f'Total initial energy: {initial_energy:.2f}')\n",
        "print(f'Total energy consumed: {total_energy_consumed:.2f}')\n",
        "print(f'Total remaining energy: {total_remaining_energy:.2f}')"
      ]
    },
    {
      "cell_type": "code",
      "execution_count": null,
      "metadata": {
        "colab": {
          "background_save": true
        },
        "id": "1s2lKcRYAzJH",
        "outputId": "82de20dc-1457-4390-d274-6dd4248b997d"
      },
      "outputs": [
        {
          "name": "stdout",
          "output_type": "stream",
          "text": [
            "Throughput: 149.22\n"
          ]
        }
      ],
      "source": [
        "# THROUGHPUT\n",
        "print(f'Throughput: {throughput:.2f}')"
      ]
    },
    {
      "cell_type": "code",
      "execution_count": null,
      "metadata": {
        "colab": {
          "background_save": true
        },
        "id": "2aWPJt_BBgv-",
        "outputId": "b8842bb7-8fd9-4ad8-e2c7-b60e67931d65"
      },
      "outputs": [
        {
          "name": "stdout",
          "output_type": "stream",
          "text": [
            "Packet Delivery Rate: 91.33\n"
          ]
        }
      ],
      "source": [
        "# PDR\n",
        "print(f'Packet Delivery Rate: {pdr:.2f}')"
      ]
    },
    {
      "cell_type": "code",
      "execution_count": null,
      "metadata": {
        "colab": {
          "background_save": true
        },
        "id": "yOZ6FDRYIcYX",
        "outputId": "df0bcf6e-cd40-4965-ba51-c57866419913"
      },
      "outputs": [
        {
          "name": "stdout",
          "output_type": "stream",
          "text": [
            "End-to-end delay: 1.80\n"
          ]
        }
      ],
      "source": [
        "# END-TO-END DELAY\n",
        "print(f'End-to-end delay: {end_to_end_delay:.2f}')"
      ]
    },
    {
      "cell_type": "code",
      "execution_count": null,
      "metadata": {
        "colab": {
          "background_save": true
        },
        "id": "wcu8pMXFfZZq",
        "outputId": "a38567c8-5246-4404-8b04-dc4720ba228c"
      },
      "outputs": [
        {
          "name": "stdout",
          "output_type": "stream",
          "text": [
            "Data has been written to sensor_data.csv\n"
          ]
        }
      ],
      "source": [
        "# XUẤT DỮ LIỆU ĐẦU VÀO RA FILE SCV\n",
        "\n",
        "data = forwarder_nodes\n",
        "\n",
        "# Define the field names based on the keys of the first dictionary in the list\n",
        "fieldnames = data[0].keys()\n",
        "\n",
        "# Specify the name of the output CSV file\n",
        "csv_file = \"sensor_data.csv\"\n",
        "\n",
        "# Write data to CSV file\n",
        "with open(csv_file, 'w', newline='') as csvfile:\n",
        "    writer = csv.DictWriter(csvfile, fieldnames=fieldnames)\n",
        "\n",
        "    # Write the header\n",
        "    writer.writeheader()\n",
        "\n",
        "    # Write each row\n",
        "    for row in data:\n",
        "        writer.writerow(row)\n",
        "\n",
        "print(\"Data has been written to\", csv_file)"
      ]
    },
    {
      "cell_type": "code",
      "execution_count": null,
      "metadata": {
        "id": "35s3KTFUDR8U"
      },
      "outputs": [],
      "source": [
        "# TẠO FILE DỮ LIỆU CSV KẾT QUẢ CỦA 4 THÔNG SỐ THEO SỐ LƯỢNG NODE\n",
        "import csv\n",
        "\n",
        "# Dữ liệu giả lập cho các bảng so sánh\n",
        "num_nodes = [200, 300, 400, 500, 600]\n",
        "\n",
        "pdr_data = {\n",
        "    'RL': [91.77, 92.68, 93.04, 94.48, 95.05],\n",
        "    'VECTOR': [83.49, 87.65, 88.68, 88.52, 86.04],\n",
        "}\n",
        "\n",
        "avg_delay_data = {\n",
        "    'RL': [1.76, 1.73, 1.70, 1.64, 1.62],\n",
        "    'VECTOR': [1.88, 1.61, 1.58, 1.56, 1.61],\n",
        "}\n",
        "\n",
        "throughput_data = {\n",
        "    'RL': [162.84, 165.83, 166.82, 190.25, 203.84],\n",
        "    'VECTOR': [106.37, 112.04, 103.55, 99.28, 89.94],\n",
        "}\n",
        "\n",
        "energy_consumed_data = {\n",
        "    'RL': [5.46, 6.11, 5.33, 4.52, 4.93],\n",
        "    'VECTOR': [9.70, 6.23, 5.31, 4.51, 4.00],\n",
        "}\n",
        "\n",
        "def create_csv(filename, num_nodes, data):\n",
        "    with open(filename, 'w', newline='') as csvfile:\n",
        "        fieldnames = ['Number of nodes'] + list(data.keys())\n",
        "        writer = csv.DictWriter(csvfile, fieldnames=fieldnames)\n",
        "\n",
        "        writer.writeheader()\n",
        "        for i, node in enumerate(num_nodes):\n",
        "            row = {'Number of nodes': node}\n",
        "            for protocol, values in data.items():\n",
        "                row[protocol] = values[i]\n",
        "            writer.writerow(row)\n",
        "\n",
        "# Tạo các file CSV\n",
        "create_csv('pdr_comparison.csv', num_nodes, pdr_data)\n",
        "create_csv('avg_end_to_end_delay_comparison.csv', num_nodes, avg_delay_data)\n",
        "create_csv('throughput_comparison.csv', num_nodes, throughput_data)\n",
        "create_csv('energy_tax_comparison.csv', num_nodes, energy_consumed_data)"
      ]
    },
    {
      "cell_type": "code",
      "execution_count": null,
      "metadata": {
        "colab": {
          "base_uri": "https://localhost:8080/",
          "height": 564
        },
        "id": "b9nnIGRzKbiI",
        "outputId": "4a2cbc27-94db-49a7-b941-22894bd6c487"
      },
      "outputs": [
        {
          "output_type": "display_data",
          "data": {
            "text/plain": [
              "<Figure size 800x600 with 1 Axes>"
            ],
            "image/png": "[encoded data removed]"
          },
          "metadata": {}
        }
      ],
      "source": [
        "# VẼ SƠ ĐỒ MÔ PHỎNG PDR(%)\n",
        "import matplotlib.pyplot as plt\n",
        "import csv\n",
        "\n",
        "# Đọc dữ liệu từ file CSV\n",
        "data = []\n",
        "with open('pdr_comparison.csv', 'r') as file:\n",
        "    reader = csv.DictReader(file)\n",
        "    for row in reader:\n",
        "        data.append(row)\n",
        "\n",
        "# Tách dữ liệu thành các danh sách riêng biệt\n",
        "nodes = []\n",
        "rl = []\n",
        "vector = []\n",
        "\n",
        "for row in data:\n",
        "    nodes.append(int(row['Number of nodes']))\n",
        "    rl.append(float(row['RL']))\n",
        "    vector.append(float(row['VECTOR']))\n",
        "\n",
        "# Vẽ sơ đồ\n",
        "plt.figure(figsize=(8, 6))\n",
        "plt.plot(nodes, rl, 'r>-', label='RL')\n",
        "plt.plot(nodes, vector, 'p-', label='VECTOR' )\n",
        "plt.xlabel('Number of nodes')\n",
        "plt.ylabel('PDR (%)')\n",
        "plt.title('The comparison of algorithms\\' PDR')\n",
        "plt.legend()\n",
        "plt.yticks(range(0, 101, 10))\n",
        "plt.show()"
      ]
    },
    {
      "cell_type": "code",
      "source": [
        "# VẼ SƠ ĐỒ MÔ PHỎNG END-TO-END DELAY\n",
        "import matplotlib.pyplot as plt\n",
        "import csv\n",
        "\n",
        "# Đọc dữ liệu từ file CSV\n",
        "data = []\n",
        "with open('avg_end_to_end_delay_comparison.csv', 'r') as file:\n",
        "    reader = csv.DictReader(file)\n",
        "    for row in reader:\n",
        "        data.append(row)\n",
        "\n",
        "# Tách dữ liệu thành các danh sách riêng biệt\n",
        "nodes = []\n",
        "rl = []\n",
        "vector = []\n",
        "\n",
        "for row in data:\n",
        "    nodes.append(int(row['Number of nodes']))\n",
        "    rl.append(float(row['RL']))\n",
        "    vector.append(float(row['VECTOR']))\n",
        "\n",
        "# Vẽ sơ đồ\n",
        "plt.figure(figsize=(8, 6))\n",
        "plt.plot(nodes, rl, 'r>-', label='RL')\n",
        "plt.plot(nodes, vector, 'p-', label='VECTOR' )\n",
        "plt.xlabel('Number of nodes')\n",
        "plt.ylabel('Average end-to-end delay (Sec)')\n",
        "plt.title('The comparison of algorithms’ average end-to-end delay.')\n",
        "plt.legend()\n",
        "plt.yticks(range(0, 5, 1))\n",
        "plt.show()"
      ],
      "metadata": {
        "colab": {
          "base_uri": "https://localhost:8080/",
          "height": 564
        },
        "id": "8bIdxZidCxs0",
        "outputId": "f1e7cc9f-3367-4b2d-d0f7-e57e8284f416"
      },
      "execution_count": null,
      "outputs": [
        {
          "output_type": "display_data",
          "data": {
            "text/plain": [
              "<Figure size 800x600 with 1 Axes>"
            ],
            "image/png": "[encoded data removed]"
          },
          "metadata": {}
        }
      ]
    },
    {
      "cell_type": "code",
      "source": [
        "# VẼ SƠ ĐỒ MÔ PHỎNG THROUGHPUT\n",
        "import matplotlib.pyplot as plt\n",
        "import csv\n",
        "\n",
        "# Đọc dữ liệu từ file CSV\n",
        "data = []\n",
        "with open('throughput_comparison.csv', 'r') as file:\n",
        "    reader = csv.DictReader(file)\n",
        "    for row in reader:\n",
        "        data.append(row)\n",
        "\n",
        "# Tách dữ liệu thành các danh sách riêng biệt\n",
        "nodes = []\n",
        "rl = []\n",
        "vector = []\n",
        "\n",
        "for row in data:\n",
        "    nodes.append(int(row['Number of nodes']))\n",
        "    rl.append(float(row['RL']))\n",
        "    vector.append(float(row['VECTOR']))\n",
        "\n",
        "# Vẽ sơ đồ\n",
        "plt.figure(figsize=(8, 6))\n",
        "plt.plot(nodes, rl, 'r>-', label='RL')\n",
        "plt.plot(nodes, vector, 'p-', label='VECTOR' )\n",
        "plt.xlabel('Number of nodes')\n",
        "plt.ylabel('Throughput (Kbps)')\n",
        "plt.title('The comparison of algorithms’ throughput.')\n",
        "plt.legend()\n",
        "plt.show()"
      ],
      "metadata": {
        "colab": {
          "base_uri": "https://localhost:8080/",
          "height": 564
        },
        "id": "fYvinMj2Dv3b",
        "outputId": "03fc9ee8-b889-4837-ce28-53d802c03d29"
      },
      "execution_count": null,
      "outputs": [
        {
          "output_type": "display_data",
          "data": {
            "text/plain": [
              "<Figure size 800x600 with 1 Axes>"
            ],
            "image/png": "[encoded data removed]"
          },
          "metadata": {}
        }
      ]
    },
    {
      "cell_type": "code",
      "source": [
        "# VẼ SƠ ĐỒ MÔ PHỎNG ENERGY TAX\n",
        "import matplotlib.pyplot as plt\n",
        "import csv\n",
        "\n",
        "# Đọc dữ liệu từ file CSV\n",
        "data = []\n",
        "with open('energy_tax_comparison.csv', 'r') as file:\n",
        "    reader = csv.DictReader(file)\n",
        "    for row in reader:\n",
        "        data.append(row)\n",
        "\n",
        "# Tách dữ liệu thành các danh sách riêng biệt\n",
        "nodes = []\n",
        "rl = []\n",
        "vector = []\n",
        "\n",
        "for row in data:\n",
        "    nodes.append(int(row['Number of nodes']))\n",
        "    rl.append(float(row['RL']))\n",
        "    vector.append(float(row['VECTOR']))\n",
        "\n",
        "# Vẽ sơ đồ\n",
        "plt.figure(figsize=(8, 6))\n",
        "plt.plot(nodes, rl, 'r>-', label='RL')\n",
        "plt.plot(nodes, vector, 'p-', label='VECTOR' )\n",
        "plt.xlabel('Number of nodes')\n",
        "plt.ylabel('Energy tax (J)')\n",
        "plt.title('The comparison of algorithms’ energy tax.')\n",
        "plt.legend()\n",
        "plt.show()"
      ],
      "metadata": {
        "colab": {
          "base_uri": "https://localhost:8080/",
          "height": 564
        },
        "id": "zGMux64uESq_",
        "outputId": "5f680c3d-d953-4ee0-c286-4e654c50b9d6"
      },
      "execution_count": null,
      "outputs": [
        {
          "output_type": "display_data",
          "data": {
            "text/plain": [
              "<Figure size 800x600 with 1 Axes>"
            ],
            "image/png": "[encoded data removed]"
          },
          "metadata": {}
        }
      ]
    }
  ],
  "metadata": {
    "colab": {
      "provenance": [],
      "include_colab_link": true
    },
    "kernelspec": {
      "display_name": "Python 3",
      "name": "python3"
    },
    "language_info": {
      "name": "python"
    }
  },
  "nbformat": 4,
  "nbformat_minor": 0
}